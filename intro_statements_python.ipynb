{
  "nbformat": 4,
  "nbformat_minor": 0,
  "metadata": {
    "colab": {
      "name": "intro-statements-python.ipynb",
      "provenance": [],
      "authorship_tag": "ABX9TyOFzlSkAua6Yjdy5mBQLNVL",
      "include_colab_link": true
    },
    "kernelspec": {
      "name": "python3",
      "display_name": "Python 3"
    },
    "language_info": {
      "name": "python"
    }
  },
  "cells": [
    {
      "cell_type": "markdown",
      "metadata": {
        "id": "view-in-github",
        "colab_type": "text"
      },
      "source": [
        "<a href=\"https://colab.research.google.com/github/shirinkhanse/functions-from-zero2/blob/main/intro_statements_python.ipynb\" target=\"_parent\"><img src=\"https://colab.research.google.com/assets/colab-badge.svg\" alt=\"Open In Colab\"/></a>"
      ]
    },
    {
      "cell_type": "code",
      "execution_count": null,
      "metadata": {
        "id": "TnUDOXAE5J6F"
      },
      "outputs": [],
      "source": [
        ""
      ]
    },
    {
      "cell_type": "markdown",
      "source": [
        "## Statements"
      ],
      "metadata": {
        "id": "u0alPEwu5MIE"
      }
    },
    {
      "cell_type": "markdown",
      "source": [
        "###Hello World"
      ],
      "metadata": {
        "id": "OK6owaH450E6"
      }
    },
    {
      "cell_type": "code",
      "source": [
        "x = 1\n",
        "y = 2\n",
        "result = x + y\n",
        "print(f\"This is the result {result}\")"
      ],
      "metadata": {
        "colab": {
          "base_uri": "https://localhost:8080/"
        },
        "id": "kn8gqiiZ-JuX",
        "outputId": "58bec574-c53e-4028-ba86-105086344f6c"
      },
      "execution_count": 3,
      "outputs": [
        {
          "output_type": "stream",
          "name": "stdout",
          "text": [
            "This is the result 3\n"
          ]
        }
      ]
    },
    {
      "cell_type": "code",
      "source": [
        "print(\"Hello World\")"
      ],
      "metadata": {
        "colab": {
          "base_uri": "https://localhost:8080/"
        },
        "id": "qLuLZX9x9sKK",
        "outputId": "2618492e-7355-4306-8a6f-275cca5f9477"
      },
      "execution_count": 2,
      "outputs": [
        {
          "output_type": "stream",
          "name": "stdout",
          "text": [
            "Hello World\n"
          ]
        }
      ]
    },
    {
      "cell_type": "code",
      "source": [
        "my_list = []"
      ],
      "metadata": {
        "id": "LbAC-mHwE7RQ"
      },
      "execution_count": 9,
      "outputs": []
    },
    {
      "cell_type": "code",
      "source": [
        "my_list.append(\"cherry\")\n",
        "print(my_list)\n",
        "my_list.append(\"apple\")\n",
        "print(my_list)\n",
        "for fruit in my_list:\n",
        "  print(f\"I love to eat this type of fruit:{fruit}\")"
      ],
      "metadata": {
        "colab": {
          "base_uri": "https://localhost:8080/"
        },
        "id": "1DKu09DdE-O-",
        "outputId": "1b357dac-55cc-405c-a95b-30cf8dfcc778"
      },
      "execution_count": 10,
      "outputs": [
        {
          "output_type": "stream",
          "name": "stdout",
          "text": [
            "['cherry']\n",
            "['cherry', 'apple']\n"
          ]
        }
      ]
    },
    {
      "cell_type": "code",
      "source": [
        "container = []\n",
        "for _ in range(5):\n",
        "  container.append(\"item\")\n",
        "print(container)"
      ],
      "metadata": {
        "colab": {
          "base_uri": "https://localhost:8080/"
        },
        "id": "qT7yysXqF1hT",
        "outputId": "77f818fb-1d2c-453c-de0f-2ff61d272669"
      },
      "execution_count": 13,
      "outputs": [
        {
          "output_type": "stream",
          "name": "stdout",
          "text": [
            "['item', 'item', 'item', 'item', 'item']\n"
          ]
        }
      ]
    },
    {
      "cell_type": "markdown",
      "source": [
        "##Random push to container"
      ],
      "metadata": {
        "id": "q7MraMlZGLCu"
      }
    },
    {
      "cell_type": "code",
      "source": [
        "from random import choices\n",
        "fruits = [\"apple\", \"cherry\", \"strawberry\", \"peach\"]\n",
        "fruit_salad = []\n",
        "for _ in range(3):\n",
        "  fruit_salad.append(choices(fruits))\n",
        "\n",
        "print(f\"I enjoyed a fruit salad with the following fruits: {fruit_salad}\")\n",
        "print(f\"I enjoyed a fruit salad with the following fruits: {fruit_salad.pop}\")"
      ],
      "metadata": {
        "colab": {
          "base_uri": "https://localhost:8080/"
        },
        "id": "_HzJnwPHGEs9",
        "outputId": "29510d4a-35a9-481d-d1dd-b5ac5745752a"
      },
      "execution_count": 18,
      "outputs": [
        {
          "output_type": "stream",
          "name": "stdout",
          "text": [
            "I enjoyed a fruit salad with the following fruits: [['apple'], ['peach'], ['strawberry']]\n",
            "I enjoyed a fruit salad with the following fruits: ['strawberry']\n"
          ]
        }
      ]
    },
    {
      "cell_type": "markdown",
      "source": [
        ""
      ],
      "metadata": {
        "id": "mOSUDSYBIBwP"
      }
    },
    {
      "cell_type": "code",
      "source": [
        "meals = {\"dinner\": \"steak\", \"lunch\": \"salad\", \"breakfast\": \"black coffee\"}\n",
        "meals\n",
        "meals.keys"
      ],
      "metadata": {
        "colab": {
          "base_uri": "https://localhost:8080/"
        },
        "id": "QBD5nt88Hs-A",
        "outputId": "eef93dad-26bb-4eab-d266-54745fdd6483"
      },
      "execution_count": null,
      "outputs": [
        {
          "output_type": "execute_result",
          "data": {
            "text/plain": [
              "<function dict.keys>"
            ]
          },
          "metadata": {},
          "execution_count": 21
        }
      ]
    },
    {
      "cell_type": "code",
      "source": [
        "meals.keys()"
      ],
      "metadata": {
        "colab": {
          "base_uri": "https://localhost:8080/"
        },
        "id": "ICdZxPeaISnm",
        "outputId": "939645ce-0f9a-4a72-8432-e30dd159b6aa"
      },
      "execution_count": 23,
      "outputs": [
        {
          "output_type": "execute_result",
          "data": {
            "text/plain": [
              "dict_keys(['dinner', 'lunch', 'breakfast'])"
            ]
          },
          "metadata": {},
          "execution_count": 23
        }
      ]
    },
    {
      "cell_type": "code",
      "source": [
        "for meal_name, food in meals.items():\n",
        "  print(f\"For {meal_name} I like to eat {food}\")"
      ],
      "metadata": {
        "colab": {
          "base_uri": "https://localhost:8080/"
        },
        "id": "A6EffWE2Ie8y",
        "outputId": "6820b985-82a0-4690-fc26-1a543d0ef2a3"
      },
      "execution_count": 24,
      "outputs": [
        {
          "output_type": "stream",
          "name": "stdout",
          "text": [
            "For dinner I like to eat steak\n",
            "For lunch I like to eat salad\n",
            "For breakfast I like to eat black coffee\n"
          ]
        }
      ]
    }
  ]
}