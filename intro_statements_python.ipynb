{
  "nbformat": 4,
  "nbformat_minor": 0,
  "metadata": {
    "colab": {
      "name": "intro-statements-python.ipynb",
      "provenance": [],
      "authorship_tag": "ABX9TyPMGmU72VlUyncThL4DTyUm",
      "include_colab_link": true
    },
    "kernelspec": {
      "name": "python3",
      "display_name": "Python 3"
    },
    "language_info": {
      "name": "python"
    }
  },
  "cells": [
    {
      "cell_type": "markdown",
      "metadata": {
        "id": "view-in-github",
        "colab_type": "text"
      },
      "source": [
        "<a href=\"https://colab.research.google.com/github/shirinkhanse/functions-from-zero2/blob/main/intro_statements_python.ipynb\" target=\"_parent\"><img src=\"https://colab.research.google.com/assets/colab-badge.svg\" alt=\"Open In Colab\"/></a>"
      ]
    },
    {
      "cell_type": "code",
      "execution_count": null,
      "metadata": {
        "id": "TnUDOXAE5J6F"
      },
      "outputs": [],
      "source": [
        ""
      ]
    },
    {
      "cell_type": "markdown",
      "source": [
        "## Statements"
      ],
      "metadata": {
        "id": "u0alPEwu5MIE"
      }
    },
    {
      "cell_type": "markdown",
      "source": [
        "###Hello World"
      ],
      "metadata": {
        "id": "OK6owaH450E6"
      }
    },
    {
      "cell_type": "markdown",
      "source": [
        ""
      ],
      "metadata": {
        "id": "G-ji3gEz50PN"
      }
    }
  ]
}